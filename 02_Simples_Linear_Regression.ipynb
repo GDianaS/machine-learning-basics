{
  "cells": [
    {
      "cell_type": "markdown",
      "metadata": {
        "id": "view-in-github",
        "colab_type": "text"
      },
      "source": [
        "<a href=\"https://colab.research.google.com/github/GDianaS/machine-learning-basics/blob/main/02_Simples_Linear_Regression.ipynb\" target=\"_parent\"><img src=\"https://colab.research.google.com/assets/colab-badge.svg\" alt=\"Open In Colab\"/></a>"
      ]
    },
    {
      "cell_type": "markdown",
      "id": "988a8fd9",
      "metadata": {
        "id": "988a8fd9"
      },
      "source": [
        "### Simples Linear Regression ###\n",
        "\n",
        "* y = dependent variable (DV)\n",
        "* x = independent variable (IV)\n",
        "* $b_{1}$ = coeficiente -> inclinação\n",
        "* $b_{0}$ = constante\n",
        "\n",
        "$$\n",
        "y = b_{0} + b_{1}*x_{1}\n",
        "$$\n"
      ]
    },
    {
      "cell_type": "code",
      "execution_count": null,
      "id": "54402877",
      "metadata": {
        "id": "54402877"
      },
      "outputs": [],
      "source": [
        "import numpy as np\n",
        "import matplotlib.pyplot as plt\n",
        "import pandas as pd"
      ]
    },
    {
      "cell_type": "code",
      "execution_count": null,
      "id": "281cdfcd",
      "metadata": {
        "id": "281cdfcd"
      },
      "outputs": [],
      "source": [
        "dataset = pd.read_csv(\"Salary_Data.csv\")\n",
        "X = dataset.iloc[:,:-1].values\n",
        "y = dataset.iloc[:,-1].values"
      ]
    },
    {
      "cell_type": "code",
      "execution_count": null,
      "id": "9d2a843a",
      "metadata": {
        "scrolled": true,
        "id": "9d2a843a",
        "outputId": "a1d9ba47-12fa-4b6c-83ac-dc3d9a5c80a5"
      },
      "outputs": [
        {
          "data": {
            "text/html": [
              "<div>\n",
              "<style scoped>\n",
              "    .dataframe tbody tr th:only-of-type {\n",
              "        vertical-align: middle;\n",
              "    }\n",
              "\n",
              "    .dataframe tbody tr th {\n",
              "        vertical-align: top;\n",
              "    }\n",
              "\n",
              "    .dataframe thead th {\n",
              "        text-align: right;\n",
              "    }\n",
              "</style>\n",
              "<table border=\"1\" class=\"dataframe\">\n",
              "  <thead>\n",
              "    <tr style=\"text-align: right;\">\n",
              "      <th></th>\n",
              "      <th>YearsExperience</th>\n",
              "      <th>Salary</th>\n",
              "    </tr>\n",
              "  </thead>\n",
              "  <tbody>\n",
              "    <tr>\n",
              "      <th>0</th>\n",
              "      <td>1.1</td>\n",
              "      <td>39343.0</td>\n",
              "    </tr>\n",
              "    <tr>\n",
              "      <th>1</th>\n",
              "      <td>1.3</td>\n",
              "      <td>46205.0</td>\n",
              "    </tr>\n",
              "    <tr>\n",
              "      <th>2</th>\n",
              "      <td>1.5</td>\n",
              "      <td>37731.0</td>\n",
              "    </tr>\n",
              "    <tr>\n",
              "      <th>3</th>\n",
              "      <td>2.0</td>\n",
              "      <td>43525.0</td>\n",
              "    </tr>\n",
              "    <tr>\n",
              "      <th>4</th>\n",
              "      <td>2.2</td>\n",
              "      <td>39891.0</td>\n",
              "    </tr>\n",
              "  </tbody>\n",
              "</table>\n",
              "</div>"
            ],
            "text/plain": [
              "   YearsExperience   Salary\n",
              "0              1.1  39343.0\n",
              "1              1.3  46205.0\n",
              "2              1.5  37731.0\n",
              "3              2.0  43525.0\n",
              "4              2.2  39891.0"
            ]
          },
          "execution_count": 3,
          "metadata": {},
          "output_type": "execute_result"
        }
      ],
      "source": [
        "dataset.head()"
      ]
    },
    {
      "cell_type": "code",
      "execution_count": null,
      "id": "3b6fcd07",
      "metadata": {
        "id": "3b6fcd07"
      },
      "outputs": [],
      "source": [
        "from sklearn.model_selection import train_test_split\n",
        "\n",
        "X_train, X_test, y_train, y_test = train_test_split(X,\n",
        "                                                    y,\n",
        "                                                    test_size=0.2,\n",
        "                                                    random_state=1)"
      ]
    },
    {
      "cell_type": "code",
      "execution_count": null,
      "id": "1ba8cdb6",
      "metadata": {
        "id": "1ba8cdb6",
        "outputId": "ca770c69-3bdd-4d20-e93a-706d8cc4293c"
      },
      "outputs": [
        {
          "data": {
            "text/plain": [
              "LinearRegression()"
            ]
          },
          "execution_count": 5,
          "metadata": {},
          "output_type": "execute_result"
        }
      ],
      "source": [
        "from sklearn.linear_model import LinearRegression\n",
        "regressor = LinearRegression()\n",
        "regressor.fit(X_train,y_train)"
      ]
    },
    {
      "cell_type": "code",
      "execution_count": null,
      "id": "d39ebf38",
      "metadata": {
        "id": "d39ebf38"
      },
      "outputs": [],
      "source": [
        "y_pred = regressor.predict(X_test)"
      ]
    },
    {
      "cell_type": "code",
      "execution_count": null,
      "id": "092c5f79",
      "metadata": {
        "id": "092c5f79",
        "outputId": "9a432459-a8e3-4d5f-d636-f86dd9a34cfe"
      },
      "outputs": [
        {
          "data": {
            "image/png": "[encoded data removed]",
            "text/plain": [
              "<Figure size 432x288 with 1 Axes>"
            ]
          },
          "metadata": {
            "needs_background": "light"
          },
          "output_type": "display_data"
        }
      ],
      "source": [
        "#red -> real\n",
        "#blue -> predict\n",
        "plt.scatter(X_train,y_train, color = 'red') #pontos\n",
        "#regressor.predict(X_train) -> eu quero a linha de regressão linear\n",
        "plt.plot(X_train, regressor.predict(X_train), color='blue') #linha\n",
        "plt.title('Salary vs Experience (Training set )')\n",
        "plt.xlabel('Years of Experience')\n",
        "plt.ylabel('Salary')\n",
        "plt.show()"
      ]
    },
    {
      "cell_type": "code",
      "execution_count": null,
      "id": "8bba3bfe",
      "metadata": {
        "scrolled": true,
        "id": "8bba3bfe",
        "outputId": "5912f9d2-26de-4512-845d-51b78bba34d4"
      },
      "outputs": [
        {
          "data": {
            "image/png": "[encoded data removed]",
            "text/plain": [
              "<Figure size 432x288 with 1 Axes>"
            ]
          },
          "metadata": {
            "needs_background": "light"
          },
          "output_type": "display_data"
        }
      ],
      "source": [
        "plt.scatter(X_test,y_test, color = 'red') \n",
        "plt.plot(X_train, regressor.predict(X_train), color='blue')\n",
        "plt.title('Salary vs Experience (Test set )')\n",
        "plt.xlabel('Years of Experience')\n",
        "plt.ylabel('Salary')\n",
        "plt.show()"
      ]
    },
    {
      "cell_type": "markdown",
      "id": "d0a29134",
      "metadata": {
        "id": "d0a29134"
      },
      "source": [
        "### Making a sigle prediction ###"
      ]
    },
    {
      "cell_type": "code",
      "execution_count": null,
      "id": "aab38465",
      "metadata": {
        "id": "aab38465",
        "outputId": "f511c67c-080f-494a-a270-3deb1b832f14"
      },
      "outputs": [
        {
          "name": "stdout",
          "output_type": "stream",
          "text": [
            "[137605.23485427]\n"
          ]
        }
      ],
      "source": [
        "#salário de um empregado com 12 anos de experiência\n",
        "#predict methos always expects a 2D array as the input\n",
        "#12→scalar \n",
        "#[12]→1D array \n",
        "#[[12]]→2D array\n",
        "print(regressor.predict([[12]]))"
      ]
    },
    {
      "cell_type": "markdown",
      "id": "49125bef",
      "metadata": {
        "id": "49125bef"
      },
      "source": [
        "### Getting the final linear regression equation with the values of the coefficients ###"
      ]
    },
    {
      "cell_type": "code",
      "execution_count": null,
      "id": "c85f5f14",
      "metadata": {
        "id": "c85f5f14",
        "outputId": "7fda13a8-c1c6-4e83-b288-0dc3dafefe24"
      },
      "outputs": [
        {
          "name": "stdout",
          "output_type": "stream",
          "text": [
            "[9332.94473799]\n",
            "25609.89799835482\n"
          ]
        }
      ],
      "source": [
        "print(regressor.coef_)\n",
        "print(regressor.intercept_)"
      ]
    },
    {
      "cell_type": "markdown",
      "id": "208ed09a",
      "metadata": {
        "id": "208ed09a"
      },
      "source": [
        "$$ \n",
        "Salary=9345.94×YearsExperience+26816.19\n",
        "$$"
      ]
    }
  ],
  "metadata": {
    "kernelspec": {
      "display_name": "Python 3",
      "language": "python",
      "name": "python3"
    },
    "language_info": {
      "codemirror_mode": {
        "name": "ipython",
        "version": 3
      },
      "file_extension": ".py",
      "mimetype": "text/x-python",
      "name": "python",
      "nbconvert_exporter": "python",
      "pygments_lexer": "ipython3",
      "version": "3.8.8"
    },
    "toc": {
      "base_numbering": 1,
      "nav_menu": {},
      "number_sections": true,
      "sideBar": true,
      "skip_h1_title": false,
      "title_cell": "Table of Contents",
      "title_sidebar": "Contents",
      "toc_cell": false,
      "toc_position": {},
      "toc_section_display": true,
      "toc_window_display": false
    },
    "colab": {
      "name": "02 - Simples Linear Regression.ipynb",
      "provenance": [],
      "include_colab_link": true
    }
  },
  "nbformat": 4,
  "nbformat_minor": 5
}